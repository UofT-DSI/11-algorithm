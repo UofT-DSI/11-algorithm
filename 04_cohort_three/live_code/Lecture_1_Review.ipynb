{
 "cells": [
  {
   "cell_type": "code",
   "execution_count": null,
   "id": "0a369d6d",
   "metadata": {
    "id": "0a369d6d"
   },
   "outputs": [],
   "source": [
    "# Agenda items\n",
    "# - Start recording\n",
    "# - Review of yesterday's material"
   ]
  },
  {
   "cell_type": "code",
   "execution_count": 1,
   "id": "271e942f-dd86-462f-868a-645c2ba541a3",
   "metadata": {
    "id": "271e942f-dd86-462f-868a-645c2ba541a3"
   },
   "outputs": [],
   "source": [
    "import timeit\n",
    "import random"
   ]
  },
  {
   "cell_type": "code",
   "execution_count": 2,
   "id": "070f8a79-9dbd-4767-acdc-76d9460eb3a9",
   "metadata": {
    "id": "070f8a79-9dbd-4767-acdc-76d9460eb3a9"
   },
   "outputs": [],
   "source": [
    "small_list = list(range(10)) # 10\n",
    "medium_list = list(range(10**2)) # 100\n",
    "big_list = list(range(10**4)) #  10000\n",
    "\n",
    "random.shuffle(small_list)\n",
    "random.shuffle(medium_list)\n",
    "random.shuffle(big_list)"
   ]
  },
  {
   "cell_type": "code",
   "execution_count": 10,
   "id": "076ecea7-16db-4e09-b29b-65782a3ac88a",
   "metadata": {
    "id": "076ecea7-16db-4e09-b29b-65782a3ac88a",
    "outputId": "a30fa6de-4264-4347-ed03-a497d32a39fb"
   },
   "outputs": [
    {
     "name": "stdout",
     "output_type": "stream",
     "text": [
      "Time to run on small list: 0.000077\n",
      "Time to run on medium list: 0.000077 which is 1.00 times the small list\n",
      "Time to run on big list: 0.000077 which is 1.0050 times the medium list, and 1.0050 times the small list\n"
     ]
    }
   ],
   "source": [
    "def get_first_element(lst):\n",
    "    return lst[0]\n",
    "\n",
    "# O(1)\n",
    "\n",
    "a = timeit.timeit(\"get_first_element(small_list)\", number=1000, globals=globals())\n",
    "b = timeit.timeit(\"get_first_element(medium_list)\", number=1000, globals=globals())\n",
    "c = timeit.timeit(\"get_first_element(big_list)\", number=1000, globals=globals())\n",
    "print(\"Time to run on small list: {0:.6f}\".format(a))\n",
    "print(\"Time to run on medium list: {0:.6f} which is {1:.2f} times the small list\".format(b, b/a))\n",
    "print(\"Time to run on big list: {0:.6f} which is {1:.4f} times the medium list, and {1:.4f} times the small list\".format(c, c/b, c/a))"
   ]
  },
  {
   "cell_type": "code",
   "execution_count": 4,
   "id": "9e9be818-5183-41fb-ae19-e3c51fe325a9",
   "metadata": {
    "id": "9e9be818-5183-41fb-ae19-e3c51fe325a9",
    "outputId": "3f1ca000-76e9-48bc-ad3f-ca8fe1c95489"
   },
   "outputs": [
    {
     "name": "stdout",
     "output_type": "stream",
     "text": [
      "Time to run on small list: 0.000970\n",
      "Time to run on medium list: 0.001394 which is 1.44 times the small list\n",
      "Time to run on big list: 0.001110 which is 0.7964 times the medium list, and 0.7964 times the small list\n"
     ]
    }
   ],
   "source": [
    "def add_first_10_numbers(lst):\n",
    "    total = lst[0]\n",
    "    total = total + lst[1]\n",
    "    total = total + lst[2]\n",
    "    total = total + lst[3]\n",
    "    total = total + lst[4]\n",
    "    total = total + lst[5]\n",
    "    total = total + lst[6]\n",
    "    total = total + lst[7]\n",
    "    total = total + lst[8]\n",
    "    total = total + lst[9]\n",
    "    return total\n",
    "\n",
    "#O(1)\n",
    "\n",
    "a = timeit.timeit(\"add_first_10_numbers(small_list)\", number=1000, globals=globals())\n",
    "b = timeit.timeit(\"add_first_10_numbers(medium_list)\", number=1000, globals=globals())\n",
    "c = timeit.timeit(\"add_first_10_numbers(big_list)\", number=1000, globals=globals())\n",
    "print(\"Time to run on small list: {0:.6f}\".format(a))\n",
    "print(\"Time to run on medium list: {0:.6f} which is {1:.2f} times the small list\".format(b, b/a))\n",
    "print(\"Time to run on big list: {0:.6f} which is {1:.4f} times the medium list, and {1:.4f} times the small list\".format(c, c/b, c/a))"
   ]
  },
  {
   "cell_type": "code",
   "execution_count": 11,
   "id": "75e09cc5-3da4-4021-85bb-8141643547cb",
   "metadata": {
    "id": "75e09cc5-3da4-4021-85bb-8141643547cb",
    "outputId": "284cd437-fc41-4806-cf24-d030c00c6702"
   },
   "outputs": [
    {
     "name": "stdout",
     "output_type": "stream",
     "text": [
      "Time to run on small list: 0.000373\n",
      "Time to run on medium list: 0.004840 which is 12.98 times the small list\n",
      "Time to run on big list: 0.40833889699933934 which is 84.37484505461018 times the medium list, and 1095.1534021611 times the small list\n"
     ]
    }
   ],
   "source": [
    "def get_sum(lst):\n",
    "    total = 0\n",
    "    for item in lst:\n",
    "        total = total + item\n",
    "    return total\n",
    "\n",
    "#O(n)\n",
    "\n",
    "a = timeit.timeit(\"get_sum(small_list)\", number=1000, globals=globals())\n",
    "b = timeit.timeit(\"get_sum(medium_list)\", number=1000, globals=globals())\n",
    "c = timeit.timeit(\"get_sum(big_list)\", number=1000, globals=globals())\n",
    "print(\"Time to run on small list: {0:.6f}\".format(a))\n",
    "print(\"Time to run on medium list: {0:.6f} which is {1:.2f} times the small list\".format(b, b/a))\n",
    "print(\"Time to run on big list: {} which is {} times the medium list, and {} times the small list\".format(c, c/b, c/a))"
   ]
  },
  {
   "cell_type": "code",
   "execution_count": 12,
   "id": "78648b8b-a76a-41de-893b-df5745e54542",
   "metadata": {
    "id": "78648b8b-a76a-41de-893b-df5745e54542",
    "outputId": "5656f6f2-3e08-4d87-c8af-d36befde30e9"
   },
   "outputs": [
    {
     "name": "stdout",
     "output_type": "stream",
     "text": [
      "Time to run on small list: 0.001023\n",
      "Time to run on medium list: 0.005936 which is 5.80 times the small list\n",
      "Time to run on big list: 0.6699908189993948 which is 112.85975703108316 times the medium list, and 654.8257101188873 times the small list\n"
     ]
    }
   ],
   "source": [
    "def search(arr, target):\n",
    "    for i in range(len(arr)):\n",
    "        if arr[i] == target:\n",
    "            return i\n",
    "    return -1\n",
    "\n",
    "# O(n)\n",
    "\n",
    "a = timeit.timeit(\"search(small_list, random.random() * len(small_list))\", number=1000, globals=globals())\n",
    "b = timeit.timeit(\"search(medium_list, random.random() * len(medium_list))\", number=1000, globals=globals())\n",
    "c = timeit.timeit(\"search(big_list, random.random() * len(big_list))\", number=1000, globals=globals())\n",
    "print(\"Time to run on small list: {0:.6f}\".format(a))\n",
    "print(\"Time to run on medium list: {0:.6f} which is {1:.2f} times the small list\".format(b, b/a))\n",
    "print(\"Time to run on big list: {} which is {} times the medium list, and {} times the small list\".format(c, c/b, c/a))"
   ]
  },
  {
   "cell_type": "code",
   "execution_count": 7,
   "id": "efb2b577-5beb-46b9-bf39-4827cd0ad4fc",
   "metadata": {
    "id": "efb2b577-5beb-46b9-bf39-4827cd0ad4fc",
    "outputId": "b47ab4c0-909f-44fb-8198-315f7642d116"
   },
   "outputs": [
    {
     "name": "stdout",
     "output_type": "stream",
     "text": [
      "Time to run on small list: 0.000059\n",
      "Time to run on medium list: 0.006227 which is 105.53 times the small list\n",
      "Time to run on big list: 46.575065183999996 which is 7480.078076005227 times the medium list, and 789394.5048546676 times the small list\n"
     ]
    }
   ],
   "source": [
    "def bubble_sort(arr):\n",
    "    n = len(arr)\n",
    "    for i in range(n):\n",
    "        for j in range(0, n-i-1):\n",
    "            if arr[j] > arr[j+1]:\n",
    "                arr[j], arr[j+1] = arr[j+1], arr[j]\n",
    "    return arr\n",
    "\n",
    "# O(n^2)\n",
    "\n",
    "a = timeit.timeit(\"bubble_sort(small_list)\", number=10, globals=globals())\n",
    "b = timeit.timeit(\"bubble_sort(medium_list)\", number=10, globals=globals())\n",
    "c = timeit.timeit(\"bubble_sort(big_list)\", number=10, globals=globals())\n",
    "print(\"Time to run on small list: {0:.6f}\".format(a))\n",
    "print(\"Time to run on medium list: {0:.6f} which is {1:.2f} times the small list\".format(b, b/a))\n",
    "print(\"Time to run on big list: {} which is {} times the medium list, and {} times the small list\".format(c, c/b, c/a))"
   ]
  },
  {
   "cell_type": "code",
   "execution_count": 8,
   "id": "998b5ee5-30bc-44e0-b10a-778ee80b23ef",
   "metadata": {
    "id": "998b5ee5-30bc-44e0-b10a-778ee80b23ef",
    "outputId": "df3646cc-9c39-45db-a53c-c215a27db9a8"
   },
   "outputs": [
    {
     "name": "stdout",
     "output_type": "stream",
     "text": [
      "Time to run on small list: 0.000094\n",
      "Time to run on medium list: 0.000148 which is 1.58 times the small list\n",
      "Time to run on big list: 0.0009163860000001023 which is 6.189288126997257 times the medium list, and 9.754390821019161 times the small list\n"
     ]
    }
   ],
   "source": [
    "def binary_search(arr, target):\n",
    "    low, high = 0, len(arr) - 1\n",
    "    while low <= high:\n",
    "        mid = (low + high) // 2\n",
    "        if arr[mid] == target:\n",
    "            return mid\n",
    "        elif arr[mid] < target:\n",
    "            low = mid + 1\n",
    "        else:\n",
    "            high = mid - 1\n",
    "    return -1\n",
    "\n",
    "# O(log n)\n",
    "\n",
    "small_list = list(range(10))\n",
    "medium_list = list(range(100))\n",
    "big_list = list(range(10000))\n",
    "\n",
    "\n",
    "a = timeit.timeit(\"binary_search(small_list, random.random() * len(small_list))\", number=100, globals=globals())\n",
    "b = timeit.timeit(\"binary_search(medium_list, random.random() * len(medium_list))\", number=100, globals=globals())\n",
    "c = timeit.timeit(\"binary_search(big_list, random.random() * len(big_list))\", number=100, globals=globals())\n",
    "print(\"Time to run on small list: {0:.6f}\".format(a))\n",
    "print(\"Time to run on medium list: {0:.6f} which is {1:.2f} times the small list\".format(b, b/a))\n",
    "print(\"Time to run on big list: {} which is {} times the medium list, and {} times the small list\".format(c, c/b, c/a))"
   ]
  },
  {
   "cell_type": "code",
   "execution_count": null,
   "id": "43dcdc0c-d2f0-445e-a1c2-d07d4daec3fb",
   "metadata": {
    "id": "43dcdc0c-d2f0-445e-a1c2-d07d4daec3fb"
   },
   "outputs": [],
   "source": []
  },
  {
   "cell_type": "code",
   "execution_count": null,
   "id": "23c31601-55a6-4726-8872-3e4d5fe15467",
   "metadata": {
    "id": "23c31601-55a6-4726-8872-3e4d5fe15467"
   },
   "outputs": [],
   "source": []
  },
  {
   "cell_type": "code",
   "execution_count": null,
   "id": "58404016-d75b-4a99-b1fb-69a64b4ee031",
   "metadata": {
    "id": "58404016-d75b-4a99-b1fb-69a64b4ee031"
   },
   "outputs": [],
   "source": []
  },
  {
   "cell_type": "code",
   "execution_count": null,
   "id": "d6f00e26-baa4-411a-a0ff-5278a67f9118",
   "metadata": {
    "id": "d6f00e26-baa4-411a-a0ff-5278a67f9118"
   },
   "outputs": [],
   "source": []
  },
  {
   "cell_type": "code",
   "execution_count": null,
   "id": "23ed9f6d",
   "metadata": {
    "id": "23ed9f6d"
   },
   "outputs": [],
   "source": []
  },
  {
   "cell_type": "code",
   "execution_count": null,
   "id": "e6926d08",
   "metadata": {
    "id": "e6926d08"
   },
   "outputs": [],
   "source": []
  },
  {
   "cell_type": "code",
   "execution_count": null,
   "id": "1ed592cd",
   "metadata": {
    "id": "1ed592cd"
   },
   "outputs": [],
   "source": []
  },
  {
   "cell_type": "code",
   "execution_count": null,
   "id": "f3155958",
   "metadata": {
    "id": "f3155958"
   },
   "outputs": [],
   "source": []
  },
  {
   "cell_type": "code",
   "execution_count": null,
   "id": "023d9e5a",
   "metadata": {
    "id": "023d9e5a"
   },
   "outputs": [],
   "source": []
  },
  {
   "cell_type": "code",
   "execution_count": null,
   "id": "7a254e84",
   "metadata": {
    "id": "7a254e84"
   },
   "outputs": [],
   "source": []
  },
  {
   "cell_type": "code",
   "execution_count": null,
   "id": "297036cf",
   "metadata": {
    "id": "297036cf"
   },
   "outputs": [],
   "source": []
  },
  {
   "cell_type": "code",
   "execution_count": null,
   "id": "05efedaa",
   "metadata": {
    "id": "05efedaa"
   },
   "outputs": [],
   "source": []
  },
  {
   "cell_type": "code",
   "execution_count": null,
   "id": "a71a945b",
   "metadata": {
    "id": "a71a945b"
   },
   "outputs": [],
   "source": []
  },
  {
   "cell_type": "code",
   "execution_count": null,
   "id": "65e5fb7d",
   "metadata": {
    "id": "65e5fb7d"
   },
   "outputs": [],
   "source": []
  },
  {
   "cell_type": "code",
   "execution_count": null,
   "id": "d3f1ac4f",
   "metadata": {
    "id": "d3f1ac4f"
   },
   "outputs": [],
   "source": []
  },
  {
   "cell_type": "code",
   "execution_count": null,
   "id": "4e541e5a",
   "metadata": {
    "id": "4e541e5a"
   },
   "outputs": [],
   "source": []
  },
  {
   "cell_type": "code",
   "execution_count": null,
   "id": "d5a9f8ad",
   "metadata": {
    "id": "d5a9f8ad"
   },
   "outputs": [],
   "source": []
  },
  {
   "cell_type": "code",
   "execution_count": null,
   "id": "3508b806",
   "metadata": {
    "id": "3508b806"
   },
   "outputs": [],
   "source": []
  },
  {
   "cell_type": "code",
   "execution_count": null,
   "id": "83aa3ece",
   "metadata": {
    "id": "83aa3ece"
   },
   "outputs": [],
   "source": []
  },
  {
   "cell_type": "code",
   "execution_count": null,
   "id": "308fb0aa",
   "metadata": {
    "id": "308fb0aa"
   },
   "outputs": [],
   "source": []
  },
  {
   "cell_type": "code",
   "execution_count": null,
   "id": "e85d8c27-caa4-4f27-8cc9-97fdeeed943d",
   "metadata": {
    "id": "e85d8c27-caa4-4f27-8cc9-97fdeeed943d"
   },
   "outputs": [],
   "source": []
  },
  {
   "cell_type": "code",
   "execution_count": null,
   "id": "06ce3a3a-3502-4b3b-b872-ae3682c8e5f9",
   "metadata": {
    "id": "06ce3a3a-3502-4b3b-b872-ae3682c8e5f9"
   },
   "outputs": [],
   "source": []
  },
  {
   "cell_type": "code",
   "execution_count": null,
   "id": "ce9cdf93-5739-4a9d-9975-41c6f35469dd",
   "metadata": {
    "id": "ce9cdf93-5739-4a9d-9975-41c6f35469dd"
   },
   "outputs": [],
   "source": []
  },
  {
   "cell_type": "code",
   "execution_count": null,
   "id": "9ba87069-2fad-48c2-9cb6-9aca643e843b",
   "metadata": {
    "id": "9ba87069-2fad-48c2-9cb6-9aca643e843b"
   },
   "outputs": [],
   "source": []
  },
  {
   "cell_type": "code",
   "execution_count": null,
   "id": "d149d260",
   "metadata": {
    "id": "d149d260"
   },
   "outputs": [],
   "source": []
  }
 ],
 "metadata": {
  "colab": {
   "provenance": []
  },
  "kernelspec": {
   "display_name": "Python 3 (ipykernel)",
   "language": "python",
   "name": "python3"
  },
  "language_info": {
   "codemirror_mode": {
    "name": "ipython",
    "version": 3
   },
   "file_extension": ".py",
   "mimetype": "text/x-python",
   "name": "python",
   "nbconvert_exporter": "python",
   "pygments_lexer": "ipython3",
   "version": "3.9.18"
  }
 },
 "nbformat": 4,
 "nbformat_minor": 5
}
